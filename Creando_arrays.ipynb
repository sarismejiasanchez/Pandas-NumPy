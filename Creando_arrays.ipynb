{
  "nbformat": 4,
  "nbformat_minor": 0,
  "metadata": {
    "colab": {
      "provenance": [],
      "authorship_tag": "ABX9TyOpDh8eQzm1MoJ2MUedTHsG",
      "include_colab_link": true
    },
    "kernelspec": {
      "name": "python3",
      "display_name": "Python 3"
    },
    "language_info": {
      "name": "python"
    }
  },
  "cells": [
    {
      "cell_type": "markdown",
      "metadata": {
        "id": "view-in-github",
        "colab_type": "text"
      },
      "source": [
        "<a href=\"https://colab.research.google.com/github/sarismejiasanchez/Pandas-NumPy/blob/main/Creando_arrays.ipynb\" target=\"_parent\"><img src=\"https://colab.research.google.com/assets/colab-badge.svg\" alt=\"Open In Colab\"/></a>"
      ]
    },
    {
      "cell_type": "code",
      "execution_count": 1,
      "metadata": {
        "id": "AV3yyoa4Uqpl"
      },
      "outputs": [],
      "source": [
        "import numpy as np"
      ]
    },
    {
      "cell_type": "markdown",
      "source": [
        "Generar una lista con valores haciendo uso de la funcion `range`"
      ],
      "metadata": {
        "id": "qAG8tlepU3Ch"
      }
    },
    {
      "cell_type": "code",
      "source": [
        "list(range(0, 10))"
      ],
      "metadata": {
        "colab": {
          "base_uri": "https://localhost:8080/"
        },
        "id": "zUVsZRhzUzQR",
        "outputId": "470a4825-060c-41b5-e1ea-e02fa95dad65"
      },
      "execution_count": 2,
      "outputs": [
        {
          "output_type": "execute_result",
          "data": {
            "text/plain": [
              "[0, 1, 2, 3, 4, 5, 6, 7, 8, 9]"
            ]
          },
          "metadata": {},
          "execution_count": 2
        }
      ]
    },
    {
      "cell_type": "markdown",
      "source": [
        "Creando un array desde NumPy `np.arange(dato inicial, dato final, step)`"
      ],
      "metadata": {
        "id": "WdvMwm9yVOUw"
      }
    },
    {
      "cell_type": "code",
      "source": [
        "np.arange(0, 20, 2)"
      ],
      "metadata": {
        "colab": {
          "base_uri": "https://localhost:8080/"
        },
        "id": "OQWYH5ceVSWy",
        "outputId": "a7b068f8-91ce-4f67-c3bf-b5eb0749fffe"
      },
      "execution_count": 4,
      "outputs": [
        {
          "output_type": "execute_result",
          "data": {
            "text/plain": [
              "array([ 0,  2,  4,  6,  8, 10, 12, 14, 16, 18])"
            ]
          },
          "metadata": {},
          "execution_count": 4
        }
      ]
    },
    {
      "cell_type": "markdown",
      "source": [
        "Definir arrays en ceros"
      ],
      "metadata": {
        "id": "Mz3q_rfBV9-c"
      }
    },
    {
      "cell_type": "code",
      "source": [
        "np.zeros(3)"
      ],
      "metadata": {
        "colab": {
          "base_uri": "https://localhost:8080/"
        },
        "id": "3Fw0cvb1WArw",
        "outputId": "e56867be-efe9-4b63-a9b4-931716a89cc1"
      },
      "execution_count": 8,
      "outputs": [
        {
          "output_type": "execute_result",
          "data": {
            "text/plain": [
              "array([0., 0., 0.])"
            ]
          },
          "metadata": {},
          "execution_count": 8
        }
      ]
    },
    {
      "cell_type": "markdown",
      "source": [
        "Estos son muy utilizados para crear esquemas previos.\n",
        "Ej: Si la dimensión que tengo de una imagen es de 10x10, genero un array de tipo matricial de 10x10, hecho netamente con valores de 0."
      ],
      "metadata": {
        "id": "ynSjwmHHWi73"
      }
    },
    {
      "cell_type": "code",
      "source": [
        "np.zeros((10, 10))"
      ],
      "metadata": {
        "colab": {
          "base_uri": "https://localhost:8080/"
        },
        "id": "IrzsSg3lWvBZ",
        "outputId": "bb2f1265-87d5-4269-e6ef-2d0391e2fd1d"
      },
      "execution_count": 9,
      "outputs": [
        {
          "output_type": "execute_result",
          "data": {
            "text/plain": [
              "array([[0., 0., 0., 0., 0., 0., 0., 0., 0., 0.],\n",
              "       [0., 0., 0., 0., 0., 0., 0., 0., 0., 0.],\n",
              "       [0., 0., 0., 0., 0., 0., 0., 0., 0., 0.],\n",
              "       [0., 0., 0., 0., 0., 0., 0., 0., 0., 0.],\n",
              "       [0., 0., 0., 0., 0., 0., 0., 0., 0., 0.],\n",
              "       [0., 0., 0., 0., 0., 0., 0., 0., 0., 0.],\n",
              "       [0., 0., 0., 0., 0., 0., 0., 0., 0., 0.],\n",
              "       [0., 0., 0., 0., 0., 0., 0., 0., 0., 0.],\n",
              "       [0., 0., 0., 0., 0., 0., 0., 0., 0., 0.],\n",
              "       [0., 0., 0., 0., 0., 0., 0., 0., 0., 0.]])"
            ]
          },
          "metadata": {},
          "execution_count": 9
        }
      ]
    },
    {
      "cell_type": "markdown",
      "source": [
        "Para los mismos propósitos que `np.zeros` podemos hacer uso de `np.ones`"
      ],
      "metadata": {
        "id": "nytFh6YuW9ep"
      }
    },
    {
      "cell_type": "code",
      "source": [
        "np.ones((10, 5))"
      ],
      "metadata": {
        "colab": {
          "base_uri": "https://localhost:8080/"
        },
        "id": "fQTf2OxwXHg9",
        "outputId": "20a6e596-7674-489a-d0eb-45270190cea7"
      },
      "execution_count": 10,
      "outputs": [
        {
          "output_type": "execute_result",
          "data": {
            "text/plain": [
              "array([[1., 1., 1., 1., 1.],\n",
              "       [1., 1., 1., 1., 1.],\n",
              "       [1., 1., 1., 1., 1.],\n",
              "       [1., 1., 1., 1., 1.],\n",
              "       [1., 1., 1., 1., 1.],\n",
              "       [1., 1., 1., 1., 1.],\n",
              "       [1., 1., 1., 1., 1.],\n",
              "       [1., 1., 1., 1., 1.],\n",
              "       [1., 1., 1., 1., 1.],\n",
              "       [1., 1., 1., 1., 1.]])"
            ]
          },
          "metadata": {},
          "execution_count": 10
        }
      ]
    },
    {
      "cell_type": "markdown",
      "source": [
        "Generamos una distribucion normalizada, una disribución totalmente ordenada, de los números desde un rango inferior hasta un rango superior. `np.linspace(valor inicial, valor final, numero de datos a generar)` haciendo una distribucion desde el inicio hasta el fin, basada en los datos."
      ],
      "metadata": {
        "id": "8mjG9oYLXOcQ"
      }
    },
    {
      "cell_type": "code",
      "source": [
        "np.linspace(0, 10, 100)"
      ],
      "metadata": {
        "colab": {
          "base_uri": "https://localhost:8080/"
        },
        "id": "2W_kmdXHXO6b",
        "outputId": "e9393c06-3716-4b84-818b-a18581b85092"
      },
      "execution_count": 12,
      "outputs": [
        {
          "output_type": "execute_result",
          "data": {
            "text/plain": [
              "array([ 0.        ,  0.1010101 ,  0.2020202 ,  0.3030303 ,  0.4040404 ,\n",
              "        0.50505051,  0.60606061,  0.70707071,  0.80808081,  0.90909091,\n",
              "        1.01010101,  1.11111111,  1.21212121,  1.31313131,  1.41414141,\n",
              "        1.51515152,  1.61616162,  1.71717172,  1.81818182,  1.91919192,\n",
              "        2.02020202,  2.12121212,  2.22222222,  2.32323232,  2.42424242,\n",
              "        2.52525253,  2.62626263,  2.72727273,  2.82828283,  2.92929293,\n",
              "        3.03030303,  3.13131313,  3.23232323,  3.33333333,  3.43434343,\n",
              "        3.53535354,  3.63636364,  3.73737374,  3.83838384,  3.93939394,\n",
              "        4.04040404,  4.14141414,  4.24242424,  4.34343434,  4.44444444,\n",
              "        4.54545455,  4.64646465,  4.74747475,  4.84848485,  4.94949495,\n",
              "        5.05050505,  5.15151515,  5.25252525,  5.35353535,  5.45454545,\n",
              "        5.55555556,  5.65656566,  5.75757576,  5.85858586,  5.95959596,\n",
              "        6.06060606,  6.16161616,  6.26262626,  6.36363636,  6.46464646,\n",
              "        6.56565657,  6.66666667,  6.76767677,  6.86868687,  6.96969697,\n",
              "        7.07070707,  7.17171717,  7.27272727,  7.37373737,  7.47474747,\n",
              "        7.57575758,  7.67676768,  7.77777778,  7.87878788,  7.97979798,\n",
              "        8.08080808,  8.18181818,  8.28282828,  8.38383838,  8.48484848,\n",
              "        8.58585859,  8.68686869,  8.78787879,  8.88888889,  8.98989899,\n",
              "        9.09090909,  9.19191919,  9.29292929,  9.39393939,  9.49494949,\n",
              "        9.5959596 ,  9.6969697 ,  9.7979798 ,  9.8989899 , 10.        ])"
            ]
          },
          "metadata": {},
          "execution_count": 12
        }
      ]
    },
    {
      "cell_type": "markdown",
      "source": [
        "Generar una matriz de la dimensión indicada, con la diagonal principal en 1"
      ],
      "metadata": {
        "id": "X7eZzLEGYmCm"
      }
    },
    {
      "cell_type": "code",
      "source": [
        "np.eye(5)"
      ],
      "metadata": {
        "colab": {
          "base_uri": "https://localhost:8080/"
        },
        "id": "6bfQMlIcYm2w",
        "outputId": "9596d732-29a9-4ff4-bb03-e8c329a8a922"
      },
      "execution_count": 14,
      "outputs": [
        {
          "output_type": "execute_result",
          "data": {
            "text/plain": [
              "array([[1., 0., 0., 0., 0.],\n",
              "       [0., 1., 0., 0., 0.],\n",
              "       [0., 0., 1., 0., 0.],\n",
              "       [0., 0., 0., 1., 0.],\n",
              "       [0., 0., 0., 0., 1.]])"
            ]
          },
          "metadata": {},
          "execution_count": 14
        }
      ]
    },
    {
      "cell_type": "markdown",
      "source": [
        "Generar valores totalmente aleatorios"
      ],
      "metadata": {
        "id": "OOMdByq3ZB-0"
      }
    },
    {
      "cell_type": "code",
      "source": [
        "np.random.rand() # Genera un valor aleatorio entre 0 y 1"
      ],
      "metadata": {
        "colab": {
          "base_uri": "https://localhost:8080/"
        },
        "id": "Rkpxfuf2ZN2I",
        "outputId": "f0621ad4-ee2b-4c3e-fcb6-47656d2d2168"
      },
      "execution_count": 15,
      "outputs": [
        {
          "output_type": "execute_result",
          "data": {
            "text/plain": [
              "0.2691607902319756"
            ]
          },
          "metadata": {},
          "execution_count": 15
        }
      ]
    },
    {
      "cell_type": "code",
      "source": [
        "np.random.rand(4) # Genera un array de 4 dimensiones con valores aleatorios entre 0 y 1"
      ],
      "metadata": {
        "colab": {
          "base_uri": "https://localhost:8080/"
        },
        "id": "wfOvEtNIZd0_",
        "outputId": "7c4691c1-dc64-4c50-975c-063a0f2fc517"
      },
      "execution_count": 17,
      "outputs": [
        {
          "output_type": "execute_result",
          "data": {
            "text/plain": [
              "array([0.16255767, 0.79297969, 0.79840982, 0.28372229])"
            ]
          },
          "metadata": {},
          "execution_count": 17
        }
      ]
    },
    {
      "cell_type": "code",
      "source": [
        "np.random.rand(4, 4) # Genera una estructura matricial con valores totalmente aleatorios"
      ],
      "metadata": {
        "colab": {
          "base_uri": "https://localhost:8080/"
        },
        "id": "Mnfia36gZ3hw",
        "outputId": "f6af0eaf-dd8c-49cc-fc25-12951e2fd6a7"
      },
      "execution_count": 18,
      "outputs": [
        {
          "output_type": "execute_result",
          "data": {
            "text/plain": [
              "array([[0.51991088, 0.2550493 , 0.10160263, 0.48222437],\n",
              "       [0.33726754, 0.00219651, 0.42353154, 0.87929536],\n",
              "       [0.84119491, 0.47132447, 0.55457768, 0.8611829 ],\n",
              "       [0.05214372, 0.97935213, 0.49768749, 0.48920013]])"
            ]
          },
          "metadata": {},
          "execution_count": 18
        }
      ]
    },
    {
      "cell_type": "code",
      "source": [
        "np.random.randint(1, 15) # Genera un entero aleatorio dentro del rango dado"
      ],
      "metadata": {
        "colab": {
          "base_uri": "https://localhost:8080/"
        },
        "id": "TNlNfwOIaFav",
        "outputId": "4b5e3aa1-e7c1-4526-d4c2-a0ef64755447"
      },
      "execution_count": 19,
      "outputs": [
        {
          "output_type": "execute_result",
          "data": {
            "text/plain": [
              "4"
            ]
          },
          "metadata": {},
          "execution_count": 19
        }
      ]
    },
    {
      "cell_type": "code",
      "source": [
        "np.random.randint(1, 100, [10, 10]) # Genera una tupla de 10x10 con valores aleatorios entre 1 y 100"
      ],
      "metadata": {
        "colab": {
          "base_uri": "https://localhost:8080/"
        },
        "id": "vDpxB-LEaYHC",
        "outputId": "c446fb85-6bee-484a-e098-7397b46f431d"
      },
      "execution_count": 20,
      "outputs": [
        {
          "output_type": "execute_result",
          "data": {
            "text/plain": [
              "array([[66, 44, 32, 68, 83, 66, 39, 81, 49, 22],\n",
              "       [ 6, 74, 34,  2, 20, 83, 44,  4, 90,  3],\n",
              "       [68, 91, 69, 16, 72, 18, 25, 39, 44, 42],\n",
              "       [70, 14, 13, 94, 76,  7, 46, 38, 71, 21],\n",
              "       [71, 84, 86, 74, 49, 32, 95, 67, 61, 38],\n",
              "       [22, 12, 23, 38, 45, 88,  5, 89, 67, 64],\n",
              "       [42, 30, 17, 76, 76, 26, 74, 63, 93, 50],\n",
              "       [10, 18, 81, 55, 45, 73, 44, 32, 18, 87],\n",
              "       [ 2, 32, 69, 38, 69, 91, 24, 95, 89, 72],\n",
              "       [37, 83, 63, 84, 15, 98, 83, 38, 59, 59]])"
            ]
          },
          "metadata": {},
          "execution_count": 20
        }
      ]
    }
  ]
}